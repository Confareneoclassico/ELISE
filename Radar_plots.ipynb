{
 "cells": [
  {
   "cell_type": "code",
   "execution_count": null,
   "metadata": {},
   "outputs": [],
   "source": [
    "import matplotlib.pyplot as plt\n",
    "import numpy as np\n",
    "import pandas as pd"
   ]
  },
  {
   "cell_type": "code",
   "execution_count": null,
   "metadata": {},
   "outputs": [],
   "source": [
    "data = pd.read_excel('SC82_D02.01(b) Finalised version of the LIFO monitoring mechanism.xlsx',sheet_name='Questionnaire',header=2,\n",
    "          usecols=[2,3,6,9,11,13,15]).set_index(['Rec #','Id'])\n",
    "data['Note_range']=[6,2,3,4,\n",
    "                  '1-5',2,6,4,\n",
    "                  4,4,12,4,\n",
    "                  18,6,5,5,\n",
    "                  7,7,10,4,\n",
    "                  2,5,4,10,\n",
    "                  'random_0-1','random_0-1',1,'Nan',\n",
    "                  9,8,18,5,\n",
    "                  6,7,'0-20',10,\n",
    "                 1,2,2,4,\n",
    "                  4,4,'random_0-1',5,11]"
   ]
  },
  {
   "cell_type": "code",
   "execution_count": null,
   "metadata": {},
   "outputs": [],
   "source": [
    "data = pd.concat([data,pd.DataFrame(columns=['Country_'+str(k) for k in range(1,6)])],axis=1)\n",
    "\n",
    "data[['Country_'+str(k) for k in range(1,6)]]=\\\n",
    "np.array((np.random.randint(7, size=5),np.random.randint(3, size=5),np.random.randint(4, size=5),np.random.randint(5, size=5),\n",
    "        np.random.randint(low=1,high=5,size=5),np.random.randint(3, size=5),np.random.randint(7, size=5),np.random.randint(5, size=5),\n",
    "        np.random.randint(5, size=5),np.random.randint(5, size=5),np.random.randint(13, size=5),np.random.randint(5, size=5),\n",
    "        np.random.randint(19, size=5),np.random.randint(7, size=5),np.random.randint(6, size=5),np.random.randint(6, size=5),\n",
    "        np.random.randint(8, size=5),np.random.randint(8, size=5),np.random.randint(11, size=5),np.random.randint(5, size=5),\n",
    "        np.random.randint(3, size=5),np.random.randint(6, size=5),np.random.randint(5, size=5),np.random.randint(11, size=5),\n",
    "        np.random.rand(5),np.random.rand(5),np.random.randint(2, size=5),np.repeat(np.nan,5),\n",
    "        np.random.randint(10, size=5),np.random.randint(9, size=5),np.random.randint(19, size=5),np.random.randint(6, size=5),\n",
    "        np.random.randint(7, size=5),np.random.randint(8, size=5),np.random.randint(2,size=5)*20,np.random.randint(11,size=5),\n",
    "        np.random.randint(2,size=5),np.random.randint(3,size=5),np.random.randint(3,size=5),np.random.randint(5,size=5),\n",
    "        np.random.randint(5,size=5),np.random.randint(5,size=5),np.random.rand(5),np.random.randint(6,size=5),\n",
    "        np.random.randint(12,size=5)))"
   ]
  },
  {
   "cell_type": "code",
   "execution_count": null,
   "metadata": {},
   "outputs": [],
   "source": [
    "data = pd.concat([data,pd.DataFrame(columns=['Country_radar_'+str(k) for k in range(1,6)])],axis=1)\n",
    "\n",
    "data[['Country_radar_'+str(k) for k in range(1,6)]]= \\\n",
    "np.divide(data[['Country_'+str(k) for k in range(1,6)]].values.T-np.concatenate((np.zeros(4),[1],np.zeros(40)),axis=0),\n",
    "          np.array((6,2,3,4,5,2,6,4,4,4,12,4,18,6,5,5,7,7,10,4,2,5,4,10,1,1,1,1,9,8,18,5,6,7,20,10,1,2,2,4,4,4,1,5,11))).T"
   ]
  },
  {
   "cell_type": "code",
   "execution_count": null,
   "metadata": {},
   "outputs": [],
   "source": [
    "for ig, g in data.groupby('Rec #'):\n",
    "    if len(g)>2:\n",
    "        # What will be the angle of each axis in the plot? (we divide the plot / number of variable)\n",
    "        angles = [n/float(len(g)) * 2 * np.pi for n in range(len(g))]\n",
    "        angles += angles[:1]\n",
    "\n",
    "        # Initialise the radar plot\n",
    "        ax = plt.subplot(111, polar=True)\n",
    "\n",
    "        # If you want the first axis to be on top:\n",
    "        ax.set_theta_offset(np.pi / 2)\n",
    "        ax.set_theta_direction(-1)\n",
    "\n",
    "        # Draw one axe per variable + add labels labels yet\n",
    "        plt.xticks(angles[:-1], g.index.values)\n",
    "\n",
    "        # Draw ylabels\n",
    "        ax.set_rlabel_position(0)\n",
    "        plt.yticks([.25,.50,.75], [\"0.25\",\"0.50\",\"0.75\"], color=\"grey\", size=7)\n",
    "        plt.ylim(0,1)\n",
    "\n",
    "        colors = ['b','g','r','c','m','y','k','w']\n",
    "\n",
    "        # ------- PART 2: Add plots\n",
    "\n",
    "        # Plot each individual = each line of the data\n",
    "        co = -1\n",
    "        for ex in g.iloc[:,-5:]:\n",
    "            co+=1\n",
    "            values=g[ex].values.flatten().tolist()\n",
    "            values += values[:1]\n",
    "            ax.plot(angles, values, colors[co], linewidth=1, linestyle='solid', label=ex)\n",
    "            ax.fill(angles, values, colors[co], alpha=0.1)\n",
    "            ax.legend(loc='upper right', bbox_to_anchor=(0.1, 0.1))\n",
    "        plt.show()"
   ]
  },
  {
   "cell_type": "code",
   "execution_count": null,
   "metadata": {},
   "outputs": [],
   "source": [
    "# What will be the angle of each axis in the plot? (we divide the plot / number of variable)\n",
    "angles = [n/float(len(data)) * 2 * np.pi for n in range(len(data))]\n",
    "angles += angles[:1]\n",
    "\n",
    "# Initialise the radar plot\n",
    "ax = plt.subplot(111, polar=True)\n",
    "\n",
    "# If you want the first axis to be on top:\n",
    "ax.set_theta_offset(np.pi / 2)\n",
    "ax.set_theta_direction(-1)\n",
    "\n",
    "# Draw one axe per variable + add labels labels yet\n",
    "plt.xticks(angles[:-1], data.index.get_level_values(1).str[1:])\n",
    "\n",
    "# Draw ylabels\n",
    "ax.set_rlabel_position(0)\n",
    "plt.yticks([.25,.50,.75], [\"0.25\",\"0.50\",\"0.75\"], color=\"grey\", size=7)\n",
    "plt.ylim(0,1)\n",
    "\n",
    "colors = ['b','g','r','c','m','y','k','w']\n",
    "\n",
    "# ------- PART 2: Add plots\n",
    "\n",
    "# Plot each individual = each line of the data\n",
    "co = -1\n",
    "for ex in data.iloc[:,-5:]:\n",
    "    co+=1\n",
    "    values=data[ex].values.flatten().tolist()\n",
    "    values += values[:1]\n",
    "    ax.plot(angles, values, colors[co], linewidth=1, linestyle='solid', label=ex)\n",
    "    ax.fill(angles, values, colors[co], alpha=0.1)\n",
    "    ax.legend(loc='upper right', bbox_to_anchor=(0.1, 0.1))\n",
    "plt.show()"
   ]
  },
  {
   "cell_type": "code",
   "execution_count": null,
   "metadata": {},
   "outputs": [],
   "source": []
  }
 ],
 "metadata": {
  "kernelspec": {
   "display_name": "Python 3",
   "language": "python",
   "name": "python3"
  },
  "language_info": {
   "codemirror_mode": {
    "name": "ipython",
    "version": 3
   },
   "file_extension": ".py",
   "mimetype": "text/x-python",
   "name": "python",
   "nbconvert_exporter": "python",
   "pygments_lexer": "ipython3",
   "version": "3.7.2"
  }
 },
 "nbformat": 4,
 "nbformat_minor": 2
}
